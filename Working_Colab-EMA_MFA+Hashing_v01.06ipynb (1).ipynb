{
  "nbformat": 4,
  "nbformat_minor": 0,
  "metadata": {
    "colab": {
      "name": "Untitled7.ipynb",
      "provenance": []
    },
    "kernelspec": {
      "name": "python3",
      "display_name": "Python 3"
    },
    "language_info": {
      "name": "python"
    }
  },
  "cells": [
    {
      "cell_type": "markdown",
      "source": [
        "**IMPLEMENTATION CODE**"
      ],
      "metadata": {
        "id": "bxwrk-xBcG2j"
      }
    },
    {
      "cell_type": "code",
      "execution_count": 1,
      "metadata": {
        "id": "q5A7d34fcEaD"
      },
      "outputs": [],
      "source": [
        "# add sqlite library\n",
        "import sqlite3\n"
      ]
    },
    {
      "cell_type": "code",
      "source": [
        "# add PYOTP library\n",
        "!pip install pyotp\n",
        "import pyotp"
      ],
      "metadata": {
        "colab": {
          "base_uri": "https://localhost:8080/"
        },
        "id": "Jfw_3v8McOdW",
        "outputId": "ed8bba58-d79a-4b1f-d9a8-dd3723c4b82d"
      },
      "execution_count": 3,
      "outputs": [
        {
          "output_type": "stream",
          "name": "stdout",
          "text": [
            "Looking in indexes: https://pypi.org/simple, https://us-python.pkg.dev/colab-wheels/public/simple/\n",
            "Collecting pyotp\n",
            "  Downloading pyotp-2.6.0-py2.py3-none-any.whl (11 kB)\n",
            "Installing collected packages: pyotp\n",
            "Successfully installed pyotp-2.6.0\n"
          ]
        }
      ]
    },
    {
      "cell_type": "code",
      "source": [
        "# add bcrypt library\n",
        "!pip install bcrypt\n",
        "import bcrypt"
      ],
      "metadata": {
        "colab": {
          "base_uri": "https://localhost:8080/"
        },
        "id": "Z8MFqcy7cOi4",
        "outputId": "4878ec07-1fec-4774-f20a-d4037db13644"
      },
      "execution_count": 4,
      "outputs": [
        {
          "output_type": "stream",
          "name": "stdout",
          "text": [
            "Looking in indexes: https://pypi.org/simple, https://us-python.pkg.dev/colab-wheels/public/simple/\n",
            "Collecting bcrypt\n",
            "  Downloading bcrypt-3.2.2-cp36-abi3-manylinux_2_17_x86_64.manylinux2014_x86_64.manylinux_2_24_x86_64.whl (62 kB)\n",
            "\u001b[K     |████████████████████████████████| 62 kB 836 kB/s \n",
            "\u001b[?25hRequirement already satisfied: cffi>=1.1 in /usr/local/lib/python3.7/dist-packages (from bcrypt) (1.15.0)\n",
            "Requirement already satisfied: pycparser in /usr/local/lib/python3.7/dist-packages (from cffi>=1.1->bcrypt) (2.21)\n",
            "Installing collected packages: bcrypt\n",
            "Successfully installed bcrypt-3.2.2\n"
          ]
        }
      ]
    },
    {
      "cell_type": "code",
      "source": [
        "#create base SQL DB\n",
        "connection = sqlite3.connect(\"asmis_db\")\n",
        "cursor = connection.cursor()\n",
        "#create table called \"users\" in test_db database - username must be a unique field\n",
        "cursor.execute(\"CREATE TABLE users (username VARCHAR(25) UNIQUE, city VARCHAR(20), age INTEGER, password VARCHAR(20)) \")\n"
      ],
      "metadata": {
        "colab": {
          "base_uri": "https://localhost:8080/"
        },
        "id": "tasXhZeFcOl5",
        "outputId": "429a8494-14f3-4682-856d-2548de9968e4"
      },
      "execution_count": 5,
      "outputs": [
        {
          "output_type": "execute_result",
          "data": {
            "text/plain": [
              "<sqlite3.Cursor at 0x7f2b7a66cb90>"
            ]
          },
          "metadata": {},
          "execution_count": 5
        }
      ]
    },
    {
      "cell_type": "markdown",
      "source": [
        "Unmodified Username/Password combinations before Passwords are hashed - Kasia 123456, Mary 654321, Viktoria abcdef, Winnie fedcba\n",
        "\n",
        "hashed value changes everytime the algorithm runs\n"
      ],
      "metadata": {
        "id": "GBS78iC-cn7J"
      }
    },
    {
      "cell_type": "code",
      "source": [
        "# Perform hashing algorithm on password for User: Kasia\n",
        "import bcrypt\n",
        "password = b\"123456\"\n",
        "salt = bcrypt.gensalt()\n",
        "hashed = bcrypt.hashpw(password,salt)\n",
        "print(salt)\n",
        "print(hashed)\n"
      ],
      "metadata": {
        "colab": {
          "base_uri": "https://localhost:8080/"
        },
        "id": "3qFdb3CacOsD",
        "outputId": "fbf421f2-cc52-47ee-ce0b-5dc6bbb945cf"
      },
      "execution_count": 6,
      "outputs": [
        {
          "output_type": "stream",
          "name": "stdout",
          "text": [
            "b'$2b$12$oZnAh/hQBOejxOCE/KvfAe'\n",
            "b'$2b$12$oZnAh/hQBOejxOCE/KvfAe2XtqVERjcVdPEbnvSpv4gE.vXz16hQe'\n"
          ]
        }
      ]
    },
    {
      "cell_type": "code",
      "source": [
        "#Code used to verify hashed password for User:Kasia\n",
        "import bcrypt\n",
        "password = b'123456'\n",
        "if bcrypt.checkpw(password,hashed):\n",
        "  print(\"You have a match\")\n",
        "else:\n",
        "  print(\"Password does not match\")\n",
        "\n"
      ],
      "metadata": {
        "colab": {
          "base_uri": "https://localhost:8080/"
        },
        "id": "VJepP_JPcwON",
        "outputId": "53f39ae9-4d8f-4746-98a0-aaebc1b5c5de"
      },
      "execution_count": 7,
      "outputs": [
        {
          "output_type": "stream",
          "name": "stdout",
          "text": [
            "You have a match\n"
          ]
        }
      ]
    },
    {
      "cell_type": "code",
      "source": [
        "# Perform hashing algorithm on password for User: Mary\n",
        "import bcrypt\n",
        "\n",
        "password = b\"654321\"\n",
        "\n",
        "salt = bcrypt.gensalt()\n",
        "hashed = bcrypt.hashpw(password,salt)\n",
        "\n",
        "print(salt)\n",
        "print(hashed)"
      ],
      "metadata": {
        "colab": {
          "base_uri": "https://localhost:8080/"
        },
        "id": "waG_NY45c5Rs",
        "outputId": "34ce7aae-1595-444f-b5a1-33ec99d440f2"
      },
      "execution_count": 8,
      "outputs": [
        {
          "output_type": "stream",
          "name": "stdout",
          "text": [
            "b'$2b$12$W0KIQncronYfpuZWZr8g/u'\n",
            "b'$2b$12$W0KIQncronYfpuZWZr8g/uWA67rtLFCn2li/xYaRM02mb0P9eJYbm'\n"
          ]
        }
      ]
    },
    {
      "cell_type": "code",
      "source": [
        "#Code used to verify hashed password for User: Mary\n",
        "import bcrypt\n",
        "password = b'654321'\n",
        "\n",
        "if bcrypt.checkpw(password,hashed):\n",
        "  print(\"You have a match\")\n",
        "else:\n",
        "  print(\"Password does not match\")"
      ],
      "metadata": {
        "colab": {
          "base_uri": "https://localhost:8080/"
        },
        "id": "-gDf34C4c5bg",
        "outputId": "64d71c23-2c06-46e5-e1e5-e7600e7004fd"
      },
      "execution_count": 9,
      "outputs": [
        {
          "output_type": "stream",
          "name": "stdout",
          "text": [
            "You have a match\n"
          ]
        }
      ]
    },
    {
      "cell_type": "code",
      "source": [
        "  # Perform hashing algorithm on password for User: Viktoria\n",
        "import bcrypt\n",
        "\n",
        "password = b\"abcdef\"\n",
        "\n",
        "salt = bcrypt.gensalt()\n",
        "hashed = bcrypt.hashpw(password,salt)\n",
        "\n",
        "print(salt)\n",
        "print(hashed)"
      ],
      "metadata": {
        "colab": {
          "base_uri": "https://localhost:8080/"
        },
        "id": "yi9ENL-Bc5gV",
        "outputId": "020fdc6d-be48-49b0-e6d2-d944e0b1d9fe"
      },
      "execution_count": 10,
      "outputs": [
        {
          "output_type": "stream",
          "name": "stdout",
          "text": [
            "b'$2b$12$3oSJV3Ojks/CCvoOENbwqe'\n",
            "b'$2b$12$3oSJV3Ojks/CCvoOENbwqe3jWQdIkNNZoZzuyWOkV0NASUsT3y.0K'\n"
          ]
        }
      ]
    },
    {
      "cell_type": "code",
      "source": [
        "#Code used to verify hashed password for User: Viktoria\n",
        "import bcrypt\n",
        "password = b'abcdef'\n",
        "\n",
        "if bcrypt.checkpw(password,hashed):\n",
        "  print(\"You have a match\")\n",
        "else:\n",
        "  print(\"Password does not match\")"
      ],
      "metadata": {
        "colab": {
          "base_uri": "https://localhost:8080/"
        },
        "id": "qupmcJKFdLqO",
        "outputId": "a1d66caf-f1c9-4b84-c86e-048d43109b51"
      },
      "execution_count": 11,
      "outputs": [
        {
          "output_type": "stream",
          "name": "stdout",
          "text": [
            "You have a match\n"
          ]
        }
      ]
    },
    {
      "cell_type": "code",
      "source": [
        "  # Perform hashing algorithm on password for User: Winnie\n",
        "import bcrypt\n",
        "\n",
        "password = b\"fedcba\"\n",
        "\n",
        "salt = bcrypt.gensalt()\n",
        "hashed = bcrypt.hashpw(password,salt)\n",
        "\n",
        "print(salt)\n",
        "print(hashed)"
      ],
      "metadata": {
        "colab": {
          "base_uri": "https://localhost:8080/"
        },
        "id": "pi_ZQShedLtd",
        "outputId": "a3db110a-36e0-4d2f-d175-0a24f1cf2af0"
      },
      "execution_count": 12,
      "outputs": [
        {
          "output_type": "stream",
          "name": "stdout",
          "text": [
            "b'$2b$12$Uoy3C0vNUuMkMqk1yOuRZO'\n",
            "b'$2b$12$Uoy3C0vNUuMkMqk1yOuRZOB8NBmX3Ns24NhqI9PKYLQmr75GRuu7u'\n"
          ]
        }
      ]
    },
    {
      "cell_type": "code",
      "source": [
        "#Code used to verify hashed password for User: Winnie\n",
        "import bcrypt\n",
        "password = b'fedcba'\n",
        "\n",
        "if bcrypt.checkpw(password,hashed):\n",
        "  print(\"You have a match\")\n",
        "else:\n",
        "  print(\"Password does not match\")"
      ],
      "metadata": {
        "colab": {
          "base_uri": "https://localhost:8080/"
        },
        "id": "BIv8sAXidLwh",
        "outputId": "b8c5b956-dab9-479f-833e-223ff0b143e1"
      },
      "execution_count": 13,
      "outputs": [
        {
          "output_type": "stream",
          "name": "stdout",
          "text": [
            "You have a match\n"
          ]
        }
      ]
    },
    {
      "cell_type": "code",
      "source": [
        "  #Add records to database with already hashed password\n",
        "#Passwords stored in database encrypted, for additional security\n",
        "cursor.execute(\"INSERT INTO users VALUES ('Kasia', 'kracow', 30, '$2b$12$oZnAh/hQBOejxOCE/KvfAe2XtqVERjcVdPEbnvSpv4gE.vXz16hQe') \")\n",
        "cursor.execute(\"INSERT INTO users VALUES ('Viktoria', 'Dublin', 30, '$2b$12$3oSJV3Ojks/CCvoOENbwqe3jWQdIkNNZoZzuyWOkV0NASUsT3y.0K') \")\n",
        "cursor.execute(\"INSERT INTO users VALUES ('Mary', 'Galway', 28, '$2b$12$W0KIQncronYfpuZWZr8g/uWA67rtLFCn2li/xYaRM02mb0P9eJYbm') \")\n",
        "cursor.execute(\"INSERT INTO users VALUES ('Winnie', 'Werfen', 60, '$2b$12$Uoy3C0vNUuMkMqk1yOuRZOB8NBmX3Ns24NhqI9PKYLQmr75GRuu7u') \")\n"
      ],
      "metadata": {
        "id": "E1WdYUMsdLzC"
      },
      "execution_count": null,
      "outputs": []
    },
    {
      "cell_type": "markdown",
      "source": [
        "**VERIFICATION CODE**"
      ],
      "metadata": {
        "id": "YCTAYh33dWlm"
      }
    },
    {
      "cell_type": "markdown",
      "source": [
        "Verify uniqueness of username field"
      ],
      "metadata": {
        "id": "Q83yBbVLe9ZK"
      }
    },
    {
      "cell_type": "code",
      "source": [
        "cursor.execute(\"INSERT INTO users VALUES ('Winnie', 'Linz', 27, '$2b$12$U0fltka1nj02yLwrJP5bbe8vdgfdgfgdfgfdg7W3kPde3.fFDye') \")\n",
        "print()"
      ],
      "metadata": {
        "colab": {
          "base_uri": "https://localhost:8080/",
          "height": 181
        },
        "id": "Nnt9Gja9e8aw",
        "outputId": "61be0c79-1af5-4d88-ec13-074ee278a0f2"
      },
      "execution_count": 15,
      "outputs": [
        {
          "output_type": "error",
          "ename": "IntegrityError",
          "evalue": "ignored",
          "traceback": [
            "\u001b[0;31m---------------------------------------------------------------------------\u001b[0m",
            "\u001b[0;31mIntegrityError\u001b[0m                            Traceback (most recent call last)",
            "\u001b[0;32m<ipython-input-15-fef3b758d7f9>\u001b[0m in \u001b[0;36m<module>\u001b[0;34m()\u001b[0m\n\u001b[0;32m----> 1\u001b[0;31m \u001b[0mcursor\u001b[0m\u001b[0;34m.\u001b[0m\u001b[0mexecute\u001b[0m\u001b[0;34m(\u001b[0m\u001b[0;34m\"INSERT INTO users VALUES ('Winnie', 'Linz', 27, '$2b$12$U0fltka1nj02yLwrJP5bbe8vdgfdgfgdfgfdg7W3kPde3.fFDye') \"\u001b[0m\u001b[0;34m)\u001b[0m\u001b[0;34m\u001b[0m\u001b[0;34m\u001b[0m\u001b[0m\n\u001b[0m\u001b[1;32m      2\u001b[0m \u001b[0mprint\u001b[0m\u001b[0;34m(\u001b[0m\u001b[0;34m)\u001b[0m\u001b[0;34m\u001b[0m\u001b[0;34m\u001b[0m\u001b[0m\n",
            "\u001b[0;31mIntegrityError\u001b[0m: UNIQUE constraint failed: users.username"
          ]
        }
      ]
    },
    {
      "cell_type": "markdown",
      "source": [
        "Individual testing and verification of 4 user accounts in the database"
      ],
      "metadata": {
        "id": "yoZUxw25eK6q"
      }
    },
    {
      "cell_type": "code",
      "source": [
        "username = \"Kasia\"\n",
        "password = \"123456\"\n",
        "#Password is unencrypted text\n",
        "\n",
        "statement = f\"SELECT username from users WHERE username='{username}' AND Password = '{password}';\"\n",
        "cursor.execute(statement)\n",
        "#\n",
        "import pyotp\n",
        "# Code fails most times without reimporting pyotp again here\n",
        "#\n",
        "# Generate time-based One Time Password\n",
        "totp = pyotp.TOTP('base32secret3232')\n",
        "#Display TOTP on screen\n",
        "print(\"Your OTP is:\",totp.now())\n"
      ],
      "metadata": {
        "colab": {
          "base_uri": "https://localhost:8080/"
        },
        "id": "eXbwCkcIdL1Y",
        "outputId": "f75ada8d-2726-49ef-d7d6-66361474d3b7"
      },
      "execution_count": 18,
      "outputs": [
        {
          "output_type": "stream",
          "name": "stdout",
          "text": [
            "Your OTP is: 519544\n"
          ]
        }
      ]
    },
    {
      "cell_type": "code",
      "source": [
        "# Enter generated TOTP for authentication\n",
        "if totp.verify('519544')==True:\n",
        "  print(\"Login Successful\")\n",
        "else:\n",
        " print(\"Access Denied\")\n"
      ],
      "metadata": {
        "colab": {
          "base_uri": "https://localhost:8080/"
        },
        "id": "41M5bv8XdL3v",
        "outputId": "a4ae8061-2dae-45c3-de93-5194c939c6de"
      },
      "execution_count": 19,
      "outputs": [
        {
          "output_type": "stream",
          "name": "stdout",
          "text": [
            "Login Successful\n"
          ]
        }
      ]
    },
    {
      "cell_type": "code",
      "source": [
        "username = \"Viktoria\"\n",
        "password = \"abcdef\"\n",
        "#Password is unencrypted text\n",
        "\n",
        "statement = f\"SELECT username from users WHERE username='{username}' AND Password = '{password}';\"\n",
        "cursor.execute(statement)\n",
        "#\n",
        "import pyotp\n",
        "# Code fails most times without reimporting pyotp again here\n",
        "#\n",
        "# Generate time-based One Time Password\n",
        "totp = pyotp.TOTP('base32secret3232')\n",
        "#Display TOTP on screen\n",
        "print(\"Your OTP is:\",totp.now())\n"
      ],
      "metadata": {
        "colab": {
          "base_uri": "https://localhost:8080/"
        },
        "id": "XLGqnIdMdL6V",
        "outputId": "442faf8f-72b9-4aea-9c65-d3d617be811d"
      },
      "execution_count": 20,
      "outputs": [
        {
          "output_type": "stream",
          "name": "stdout",
          "text": [
            "Your OTP is: 621390\n"
          ]
        }
      ]
    },
    {
      "cell_type": "code",
      "source": [
        "# Enter generated TOTP for authentication\n",
        "if totp.verify('621390')==True:\n",
        "  print(\"Login Successful\")\n",
        "else:\n",
        " print(\"Access Denied\")\n"
      ],
      "metadata": {
        "colab": {
          "base_uri": "https://localhost:8080/"
        },
        "id": "VetAs8YMdtLm",
        "outputId": "77dc2d72-7156-4d34-d951-d587cc7ddd98"
      },
      "execution_count": 21,
      "outputs": [
        {
          "output_type": "stream",
          "name": "stdout",
          "text": [
            "Login Successful\n"
          ]
        }
      ]
    },
    {
      "cell_type": "code",
      "source": [
        "username = \"Mary\"\n",
        "password = \"654321\"\n",
        "#Password is unencrypted text\n",
        "\n",
        "statement = f\"SELECT username from users WHERE username='{username}' AND Password = '{password}';\"\n",
        "cursor.execute(statement)\n",
        "#\n",
        "import pyotp\n",
        "# Code fails most times without reimporting pyotp again here\n",
        "#\n",
        "# Generate time-based One Time Password\n",
        "totp = pyotp.TOTP('base32secret3232')\n",
        "#Display TOTP on screen\n",
        "print(\"Your OTP is:\",totp.now())\n",
        "#\n",
        "#"
      ],
      "metadata": {
        "colab": {
          "base_uri": "https://localhost:8080/"
        },
        "id": "PKEmVESDdtPa",
        "outputId": "fb48da22-b239-432a-e83b-f41faa6cde5f"
      },
      "execution_count": 25,
      "outputs": [
        {
          "output_type": "stream",
          "name": "stdout",
          "text": [
            "Your OTP is: 771784\n"
          ]
        }
      ]
    },
    {
      "cell_type": "code",
      "source": [
        "# Enter generated TOTP for authentication\n",
        "if totp.verify('771784')==True:\n",
        "  print(\"Login Successful\")\n",
        "else:\n",
        " print(\"Access Denied\")"
      ],
      "metadata": {
        "colab": {
          "base_uri": "https://localhost:8080/"
        },
        "id": "AVb1yakvdtZF",
        "outputId": "d59acc8b-ce89-4c97-a810-c807d5d4da58"
      },
      "execution_count": 26,
      "outputs": [
        {
          "output_type": "stream",
          "name": "stdout",
          "text": [
            "Login Successful\n"
          ]
        }
      ]
    },
    {
      "cell_type": "code",
      "source": [
        "username = \"Winnie\"\n",
        "password = \"fedcba\"\n",
        "#Password is unencrypted text\n",
        "\n",
        "statement = f\"SELECT username from users WHERE username='{username}' AND Password = '{password}';\"\n",
        "cursor.execute(statement)\n",
        "#\n",
        "import pyotp\n",
        "# Code fails most times without reimporting pyotp again here\n",
        "#\n",
        "# Generate time-based One Time Password\n",
        "totp = pyotp.TOTP('base32secret3232')\n",
        "#Display TOTP on screen\n",
        "print(\"Your OTP is:\",totp.now())\n",
        "#\n",
        "#"
      ],
      "metadata": {
        "colab": {
          "base_uri": "https://localhost:8080/"
        },
        "id": "-iHsae5sdtn6",
        "outputId": "2777d60d-977a-4fc9-b274-b596e00adf58"
      },
      "execution_count": 30,
      "outputs": [
        {
          "output_type": "stream",
          "name": "stdout",
          "text": [
            "Your OTP is: 730779\n"
          ]
        }
      ]
    },
    {
      "cell_type": "code",
      "source": [
        "# Enter generated TOTP for authentication\n",
        "if totp.verify('730779')==True:\n",
        "  print(\"Login Successful\")\n",
        "else:\n",
        " print(\"Access Denied\")"
      ],
      "metadata": {
        "colab": {
          "base_uri": "https://localhost:8080/"
        },
        "id": "66bPEnKndtqn",
        "outputId": "baa4088f-60b7-474f-8a6f-f3392d4bce36"
      },
      "execution_count": 31,
      "outputs": [
        {
          "output_type": "stream",
          "name": "stdout",
          "text": [
            "Login Successful\n"
          ]
        }
      ]
    },
    {
      "cell_type": "markdown",
      "source": [
        "Examples where wrong password for user has been entered, or where the wrong OTP was entered"
      ],
      "metadata": {
        "id": "m68-EOVteS-z"
      }
    },
    {
      "cell_type": "markdown",
      "source": [
        "Wrong password"
      ],
      "metadata": {
        "id": "AOTHE-cZetJY"
      }
    },
    {
      "cell_type": "code",
      "source": [
        "username = \"Winnie\"\n",
        "password = \"dogdog\"\n",
        "#Password is unencrypted text\n",
        "\n",
        "statement = f\"SELECT username from users WHERE username='{username}' AND Password = '{password}';\"\n",
        "cursor.execute(statement)\n",
        "#\n",
        "import pyotp\n",
        "# Code fails most times without reimporting pyotp again here\n",
        "#\n",
        "# Generate time-based One Time Password\n",
        "totp = pyotp.TOTP('base32secret3232')\n",
        "#Display TOTP on screen\n",
        "print(\"Your OTP is:\",totp.now())\n",
        "#\n",
        "#"
      ],
      "metadata": {
        "colab": {
          "base_uri": "https://localhost:8080/"
        },
        "id": "plS1yzutebUP",
        "outputId": "ed47603c-1741-4f38-b3a9-ec0307c8d7b5"
      },
      "execution_count": 33,
      "outputs": [
        {
          "output_type": "stream",
          "name": "stdout",
          "text": [
            "Your OTP is: 281845\n"
          ]
        }
      ]
    },
    {
      "cell_type": "code",
      "source": [
        "# Enter generated TOTP for authentication\n",
        "if totp.verify('281845')==True:\n",
        "  print(\"Login Successful\")\n",
        "else:\n",
        " print(\"Access Denied\")"
      ],
      "metadata": {
        "colab": {
          "base_uri": "https://localhost:8080/"
        },
        "id": "hnIefWMIecOK",
        "outputId": "0a3e60df-b84b-4da6-f86c-36228bc68bf2"
      },
      "execution_count": 35,
      "outputs": [
        {
          "output_type": "stream",
          "name": "stdout",
          "text": [
            "Access Denied\n"
          ]
        }
      ]
    },
    {
      "cell_type": "markdown",
      "source": [
        "Wrong OTP"
      ],
      "metadata": {
        "id": "VlJXPORgewSe"
      }
    },
    {
      "cell_type": "code",
      "source": [
        "username = \"Winnie\"\n",
        "password = \"fedcba\"\n",
        "#Password is unencrypted text\n",
        "\n",
        "statement = f\"SELECT username from users WHERE username='{username}' AND Password = '{password}';\"\n",
        "cursor.execute(statement)\n",
        "#\n",
        "import pyotp\n",
        "# Code fails most times without reimporting pyotp again here\n",
        "#\n",
        "# Generate time-based One Time Password\n",
        "totp = pyotp.TOTP('base32secret3232')\n",
        "#Display TOTP on screen\n",
        "print(\"Your OTP is:\",totp.now())\n",
        "#\n",
        "#"
      ],
      "metadata": {
        "colab": {
          "base_uri": "https://localhost:8080/"
        },
        "id": "tTCdJSDben5m",
        "outputId": "c2c84177-ad53-4a2e-df5f-c58d9d40f8cd"
      },
      "execution_count": 37,
      "outputs": [
        {
          "output_type": "stream",
          "name": "stdout",
          "text": [
            "Your OTP is: 023904\n"
          ]
        }
      ]
    },
    {
      "cell_type": "code",
      "source": [
        "# Enter generated TOTP for authentication\n",
        "if totp.verify('123456')==True:\n",
        "  print(\"Login Successful\")\n",
        "else:\n",
        " print(\"Access Denied\")"
      ],
      "metadata": {
        "colab": {
          "base_uri": "https://localhost:8080/"
        },
        "id": "h8br-4hreoDz",
        "outputId": "c9172375-5b2e-45ad-ebb0-efa4535ab0e9"
      },
      "execution_count": 38,
      "outputs": [
        {
          "output_type": "stream",
          "name": "stdout",
          "text": [
            "Access Denied\n"
          ]
        }
      ]
    }
  ]
}